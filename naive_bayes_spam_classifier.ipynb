{
  "nbformat": 4,
  "nbformat_minor": 0,
  "metadata": {
    "colab": {
      "name": "naive_bayes_spam_classifier.ipynb",
      "provenance": [],
      "collapsed_sections": []
    },
    "kernelspec": {
      "display_name": "Python 3",
      "name": "python3"
    }
  },
  "cells": [
    {
      "cell_type": "code",
      "metadata": {
        "id": "Jl9-f29XWtST"
      },
      "source": [
        "import numpy as np\n",
        "import pandas as pd\n",
        "import nltk\n",
        "from nltk.corpus import stopwords,wordnet\n",
        "from nltk.tokenize import RegexpTokenizer,word_tokenize\n",
        "from nltk.stem import WordNetLemmatizer,PorterStemmer\n",
        "from sklearn.feature_extraction.text import CountVectorizer\n",
        "import string"
      ],
      "execution_count": null,
      "outputs": []
    },
    {
      "cell_type": "code",
      "metadata": {
        "colab": {
          "resources": {
            "http://localhost:8080/nbextensions/google.colab/files.js": {
              "data": "Ly8gQ29weXJpZ2h0IDIwMTcgR29vZ2xlIExMQwovLwovLyBMaWNlbnNlZCB1bmRlciB0aGUgQXBhY2hlIExpY2Vuc2UsIFZlcnNpb24gMi4wICh0aGUgIkxpY2Vuc2UiKTsKLy8geW91IG1heSBub3QgdXNlIHRoaXMgZmlsZSBleGNlcHQgaW4gY29tcGxpYW5jZSB3aXRoIHRoZSBMaWNlbnNlLgovLyBZb3UgbWF5IG9idGFpbiBhIGNvcHkgb2YgdGhlIExpY2Vuc2UgYXQKLy8KLy8gICAgICBodHRwOi8vd3d3LmFwYWNoZS5vcmcvbGljZW5zZXMvTElDRU5TRS0yLjAKLy8KLy8gVW5sZXNzIHJlcXVpcmVkIGJ5IGFwcGxpY2FibGUgbGF3IG9yIGFncmVlZCB0byBpbiB3cml0aW5nLCBzb2Z0d2FyZQovLyBkaXN0cmlidXRlZCB1bmRlciB0aGUgTGljZW5zZSBpcyBkaXN0cmlidXRlZCBvbiBhbiAiQVMgSVMiIEJBU0lTLAovLyBXSVRIT1VUIFdBUlJBTlRJRVMgT1IgQ09ORElUSU9OUyBPRiBBTlkgS0lORCwgZWl0aGVyIGV4cHJlc3Mgb3IgaW1wbGllZC4KLy8gU2VlIHRoZSBMaWNlbnNlIGZvciB0aGUgc3BlY2lmaWMgbGFuZ3VhZ2UgZ292ZXJuaW5nIHBlcm1pc3Npb25zIGFuZAovLyBsaW1pdGF0aW9ucyB1bmRlciB0aGUgTGljZW5zZS4KCi8qKgogKiBAZmlsZW92ZXJ2aWV3IEhlbHBlcnMgZm9yIGdvb2dsZS5jb2xhYiBQeXRob24gbW9kdWxlLgogKi8KKGZ1bmN0aW9uKHNjb3BlKSB7CmZ1bmN0aW9uIHNwYW4odGV4dCwgc3R5bGVBdHRyaWJ1dGVzID0ge30pIHsKICBjb25zdCBlbGVtZW50ID0gZG9jdW1lbnQuY3JlYXRlRWxlbWVudCgnc3BhbicpOwogIGVsZW1lbnQudGV4dENvbnRlbnQgPSB0ZXh0OwogIGZvciAoY29uc3Qga2V5IG9mIE9iamVjdC5rZXlzKHN0eWxlQXR0cmlidXRlcykpIHsKICAgIGVsZW1lbnQuc3R5bGVba2V5XSA9IHN0eWxlQXR0cmlidXRlc1trZXldOwogIH0KICByZXR1cm4gZWxlbWVudDsKfQoKLy8gTWF4IG51bWJlciBvZiBieXRlcyB3aGljaCB3aWxsIGJlIHVwbG9hZGVkIGF0IGEgdGltZS4KY29uc3QgTUFYX1BBWUxPQURfU0laRSA9IDEwMCAqIDEwMjQ7CgpmdW5jdGlvbiBfdXBsb2FkRmlsZXMoaW5wdXRJZCwgb3V0cHV0SWQpIHsKICBjb25zdCBzdGVwcyA9IHVwbG9hZEZpbGVzU3RlcChpbnB1dElkLCBvdXRwdXRJZCk7CiAgY29uc3Qgb3V0cHV0RWxlbWVudCA9IGRvY3VtZW50LmdldEVsZW1lbnRCeUlkKG91dHB1dElkKTsKICAvLyBDYWNoZSBzdGVwcyBvbiB0aGUgb3V0cHV0RWxlbWVudCB0byBtYWtlIGl0IGF2YWlsYWJsZSBmb3IgdGhlIG5leHQgY2FsbAogIC8vIHRvIHVwbG9hZEZpbGVzQ29udGludWUgZnJvbSBQeXRob24uCiAgb3V0cHV0RWxlbWVudC5zdGVwcyA9IHN0ZXBzOwoKICByZXR1cm4gX3VwbG9hZEZpbGVzQ29udGludWUob3V0cHV0SWQpOwp9CgovLyBUaGlzIGlzIHJvdWdobHkgYW4gYXN5bmMgZ2VuZXJhdG9yIChub3Qgc3VwcG9ydGVkIGluIHRoZSBicm93c2VyIHlldCksCi8vIHdoZXJlIHRoZXJlIGFyZSBtdWx0aXBsZSBhc3luY2hyb25vdXMgc3RlcHMgYW5kIHRoZSBQeXRob24gc2lkZSBpcyBnb2luZwovLyB0byBwb2xsIGZvciBjb21wbGV0aW9uIG9mIGVhY2ggc3RlcC4KLy8gVGhpcyB1c2VzIGEgUHJvbWlzZSB0byBibG9jayB0aGUgcHl0aG9uIHNpZGUgb24gY29tcGxldGlvbiBvZiBlYWNoIHN0ZXAsCi8vIHRoZW4gcGFzc2VzIHRoZSByZXN1bHQgb2YgdGhlIHByZXZpb3VzIHN0ZXAgYXMgdGhlIGlucHV0IHRvIHRoZSBuZXh0IHN0ZXAuCmZ1bmN0aW9uIF91cGxvYWRGaWxlc0NvbnRpbnVlKG91dHB1dElkKSB7CiAgY29uc3Qgb3V0cHV0RWxlbWVudCA9IGRvY3VtZW50LmdldEVsZW1lbnRCeUlkKG91dHB1dElkKTsKICBjb25zdCBzdGVwcyA9IG91dHB1dEVsZW1lbnQuc3RlcHM7CgogIGNvbnN0IG5leHQgPSBzdGVwcy5uZXh0KG91dHB1dEVsZW1lbnQubGFzdFByb21pc2VWYWx1ZSk7CiAgcmV0dXJuIFByb21pc2UucmVzb2x2ZShuZXh0LnZhbHVlLnByb21pc2UpLnRoZW4oKHZhbHVlKSA9PiB7CiAgICAvLyBDYWNoZSB0aGUgbGFzdCBwcm9taXNlIHZhbHVlIHRvIG1ha2UgaXQgYXZhaWxhYmxlIHRvIHRoZSBuZXh0CiAgICAvLyBzdGVwIG9mIHRoZSBnZW5lcmF0b3IuCiAgICBvdXRwdXRFbGVtZW50Lmxhc3RQcm9taXNlVmFsdWUgPSB2YWx1ZTsKICAgIHJldHVybiBuZXh0LnZhbHVlLnJlc3BvbnNlOwogIH0pOwp9CgovKioKICogR2VuZXJhdG9yIGZ1bmN0aW9uIHdoaWNoIGlzIGNhbGxlZCBiZXR3ZWVuIGVhY2ggYXN5bmMgc3RlcCBvZiB0aGUgdXBsb2FkCiAqIHByb2Nlc3MuCiAqIEBwYXJhbSB7c3RyaW5nfSBpbnB1dElkIEVsZW1lbnQgSUQgb2YgdGhlIGlucHV0IGZpbGUgcGlja2VyIGVsZW1lbnQuCiAqIEBwYXJhbSB7c3RyaW5nfSBvdXRwdXRJZCBFbGVtZW50IElEIG9mIHRoZSBvdXRwdXQgZGlzcGxheS4KICogQHJldHVybiB7IUl0ZXJhYmxlPCFPYmplY3Q+fSBJdGVyYWJsZSBvZiBuZXh0IHN0ZXBzLgogKi8KZnVuY3Rpb24qIHVwbG9hZEZpbGVzU3RlcChpbnB1dElkLCBvdXRwdXRJZCkgewogIGNvbnN0IGlucHV0RWxlbWVudCA9IGRvY3VtZW50LmdldEVsZW1lbnRCeUlkKGlucHV0SWQpOwogIGlucHV0RWxlbWVudC5kaXNhYmxlZCA9IGZhbHNlOwoKICBjb25zdCBvdXRwdXRFbGVtZW50ID0gZG9jdW1lbnQuZ2V0RWxlbWVudEJ5SWQob3V0cHV0SWQpOwogIG91dHB1dEVsZW1lbnQuaW5uZXJIVE1MID0gJyc7CgogIGNvbnN0IHBpY2tlZFByb21pc2UgPSBuZXcgUHJvbWlzZSgocmVzb2x2ZSkgPT4gewogICAgaW5wdXRFbGVtZW50LmFkZEV2ZW50TGlzdGVuZXIoJ2NoYW5nZScsIChlKSA9PiB7CiAgICAgIHJlc29sdmUoZS50YXJnZXQuZmlsZXMpOwogICAgfSk7CiAgfSk7CgogIGNvbnN0IGNhbmNlbCA9IGRvY3VtZW50LmNyZWF0ZUVsZW1lbnQoJ2J1dHRvbicpOwogIGlucHV0RWxlbWVudC5wYXJlbnRFbGVtZW50LmFwcGVuZENoaWxkKGNhbmNlbCk7CiAgY2FuY2VsLnRleHRDb250ZW50ID0gJ0NhbmNlbCB1cGxvYWQnOwogIGNvbnN0IGNhbmNlbFByb21pc2UgPSBuZXcgUHJvbWlzZSgocmVzb2x2ZSkgPT4gewogICAgY2FuY2VsLm9uY2xpY2sgPSAoKSA9PiB7CiAgICAgIHJlc29sdmUobnVsbCk7CiAgICB9OwogIH0pOwoKICAvLyBXYWl0IGZvciB0aGUgdXNlciB0byBwaWNrIHRoZSBmaWxlcy4KICBjb25zdCBmaWxlcyA9IHlpZWxkIHsKICAgIHByb21pc2U6IFByb21pc2UucmFjZShbcGlja2VkUHJvbWlzZSwgY2FuY2VsUHJvbWlzZV0pLAogICAgcmVzcG9uc2U6IHsKICAgICAgYWN0aW9uOiAnc3RhcnRpbmcnLAogICAgfQogIH07CgogIGNhbmNlbC5yZW1vdmUoKTsKCiAgLy8gRGlzYWJsZSB0aGUgaW5wdXQgZWxlbWVudCBzaW5jZSBmdXJ0aGVyIHBpY2tzIGFyZSBub3QgYWxsb3dlZC4KICBpbnB1dEVsZW1lbnQuZGlzYWJsZWQgPSB0cnVlOwoKICBpZiAoIWZpbGVzKSB7CiAgICByZXR1cm4gewogICAgICByZXNwb25zZTogewogICAgICAgIGFjdGlvbjogJ2NvbXBsZXRlJywKICAgICAgfQogICAgfTsKICB9CgogIGZvciAoY29uc3QgZmlsZSBvZiBmaWxlcykgewogICAgY29uc3QgbGkgPSBkb2N1bWVudC5jcmVhdGVFbGVtZW50KCdsaScpOwogICAgbGkuYXBwZW5kKHNwYW4oZmlsZS5uYW1lLCB7Zm9udFdlaWdodDogJ2JvbGQnfSkpOwogICAgbGkuYXBwZW5kKHNwYW4oCiAgICAgICAgYCgke2ZpbGUudHlwZSB8fCAnbi9hJ30pIC0gJHtmaWxlLnNpemV9IGJ5dGVzLCBgICsKICAgICAgICBgbGFzdCBtb2RpZmllZDogJHsKICAgICAgICAgICAgZmlsZS5sYXN0TW9kaWZpZWREYXRlID8gZmlsZS5sYXN0TW9kaWZpZWREYXRlLnRvTG9jYWxlRGF0ZVN0cmluZygpIDoKICAgICAgICAgICAgICAgICAgICAgICAgICAgICAgICAgICAgJ24vYSd9IC0gYCkpOwogICAgY29uc3QgcGVyY2VudCA9IHNwYW4oJzAlIGRvbmUnKTsKICAgIGxpLmFwcGVuZENoaWxkKHBlcmNlbnQpOwoKICAgIG91dHB1dEVsZW1lbnQuYXBwZW5kQ2hpbGQobGkpOwoKICAgIGNvbnN0IGZpbGVEYXRhUHJvbWlzZSA9IG5ldyBQcm9taXNlKChyZXNvbHZlKSA9PiB7CiAgICAgIGNvbnN0IHJlYWRlciA9IG5ldyBGaWxlUmVhZGVyKCk7CiAgICAgIHJlYWRlci5vbmxvYWQgPSAoZSkgPT4gewogICAgICAgIHJlc29sdmUoZS50YXJnZXQucmVzdWx0KTsKICAgICAgfTsKICAgICAgcmVhZGVyLnJlYWRBc0FycmF5QnVmZmVyKGZpbGUpOwogICAgfSk7CiAgICAvLyBXYWl0IGZvciB0aGUgZGF0YSB0byBiZSByZWFkeS4KICAgIGxldCBmaWxlRGF0YSA9IHlpZWxkIHsKICAgICAgcHJvbWlzZTogZmlsZURhdGFQcm9taXNlLAogICAgICByZXNwb25zZTogewogICAgICAgIGFjdGlvbjogJ2NvbnRpbnVlJywKICAgICAgfQogICAgfTsKCiAgICAvLyBVc2UgYSBjaHVua2VkIHNlbmRpbmcgdG8gYXZvaWQgbWVzc2FnZSBzaXplIGxpbWl0cy4gU2VlIGIvNjIxMTU2NjAuCiAgICBsZXQgcG9zaXRpb24gPSAwOwogICAgd2hpbGUgKHBvc2l0aW9uIDwgZmlsZURhdGEuYnl0ZUxlbmd0aCkgewogICAgICBjb25zdCBsZW5ndGggPSBNYXRoLm1pbihmaWxlRGF0YS5ieXRlTGVuZ3RoIC0gcG9zaXRpb24sIE1BWF9QQVlMT0FEX1NJWkUpOwogICAgICBjb25zdCBjaHVuayA9IG5ldyBVaW50OEFycmF5KGZpbGVEYXRhLCBwb3NpdGlvbiwgbGVuZ3RoKTsKICAgICAgcG9zaXRpb24gKz0gbGVuZ3RoOwoKICAgICAgY29uc3QgYmFzZTY0ID0gYnRvYShTdHJpbmcuZnJvbUNoYXJDb2RlLmFwcGx5KG51bGwsIGNodW5rKSk7CiAgICAgIHlpZWxkIHsKICAgICAgICByZXNwb25zZTogewogICAgICAgICAgYWN0aW9uOiAnYXBwZW5kJywKICAgICAgICAgIGZpbGU6IGZpbGUubmFtZSwKICAgICAgICAgIGRhdGE6IGJhc2U2NCwKICAgICAgICB9LAogICAgICB9OwogICAgICBwZXJjZW50LnRleHRDb250ZW50ID0KICAgICAgICAgIGAke01hdGgucm91bmQoKHBvc2l0aW9uIC8gZmlsZURhdGEuYnl0ZUxlbmd0aCkgKiAxMDApfSUgZG9uZWA7CiAgICB9CiAgfQoKICAvLyBBbGwgZG9uZS4KICB5aWVsZCB7CiAgICByZXNwb25zZTogewogICAgICBhY3Rpb246ICdjb21wbGV0ZScsCiAgICB9CiAgfTsKfQoKc2NvcGUuZ29vZ2xlID0gc2NvcGUuZ29vZ2xlIHx8IHt9OwpzY29wZS5nb29nbGUuY29sYWIgPSBzY29wZS5nb29nbGUuY29sYWIgfHwge307CnNjb3BlLmdvb2dsZS5jb2xhYi5fZmlsZXMgPSB7CiAgX3VwbG9hZEZpbGVzLAogIF91cGxvYWRGaWxlc0NvbnRpbnVlLAp9Owp9KShzZWxmKTsK",
              "headers": [
                [
                  "content-type",
                  "application/javascript"
                ]
              ],
              "ok": true,
              "status": 200,
              "status_text": ""
            }
          },
          "base_uri": "https://localhost:8080/",
          "height": 72
        },
        "id": "hE8MC-LTZB5u",
        "outputId": "66c38be4-0a20-409f-e2c6-85d0522a4719"
      },
      "source": [
        "from google.colab import files\n",
        "uploaded=files.upload()\n"
      ],
      "execution_count": null,
      "outputs": [
        {
          "output_type": "display_data",
          "data": {
            "text/html": [
              "\n",
              "     <input type=\"file\" id=\"files-23a8e692-4eb5-465d-8ad8-913481387f20\" name=\"files[]\" multiple disabled\n",
              "        style=\"border:none\" />\n",
              "     <output id=\"result-23a8e692-4eb5-465d-8ad8-913481387f20\">\n",
              "      Upload widget is only available when the cell has been executed in the\n",
              "      current browser session. Please rerun this cell to enable.\n",
              "      </output>\n",
              "      <script src=\"/nbextensions/google.colab/files.js\"></script> "
            ],
            "text/plain": [
              "<IPython.core.display.HTML object>"
            ]
          },
          "metadata": {
            "tags": []
          }
        },
        {
          "output_type": "stream",
          "text": [
            "Saving SMSSpamCollection to SMSSpamCollection\n"
          ],
          "name": "stdout"
        }
      ]
    },
    {
      "cell_type": "code",
      "metadata": {
        "id": "urqdGG3zhnN4"
      },
      "source": [
        "nltk.download('stopwords')\n",
        "nltk.download('averaged_perceptron_tagger')\n",
        "nltk.download('wordnet')\n",
        "nltk.download('punkt')"
      ],
      "execution_count": null,
      "outputs": []
    },
    {
      "cell_type": "code",
      "metadata": {
        "id": "zK5FMHRJcXzV"
      },
      "source": [
        "dataset=pd.read_csv('SMSSpamCollection',sep='\\t',header=None,names=['LABEL','TEXT'])\n",
        "dataset.drop_duplicates(inplace=True)\n",
        "random_data=dataset.sample(frac=1,random_state=1)\n",
        "index=round(len(random_data)*0.8)\n",
        "train_set=random_data[:index].reset_index(drop=True)\n",
        "test_set=random_data[index:].reset_index(drop=True)"
      ],
      "execution_count": null,
      "outputs": []
    },
    {
      "cell_type": "code",
      "metadata": {
        "colab": {
          "base_uri": "https://localhost:8080/"
        },
        "id": "o65jTqzlFm72",
        "outputId": "d4b54f22-188f-4c88-bed4-a7a66351eef5"
      },
      "source": [
        "nltk.download('stopwords')\n",
        "nltk.download('averaged_perceptron_tagger')\n",
        "nltk.download('wordnet')\n",
        "nltk.download('punkt')"
      ],
      "execution_count": null,
      "outputs": [
        {
          "output_type": "stream",
          "text": [
            "[nltk_data] Downloading package stopwords to /root/nltk_data...\n",
            "[nltk_data]   Package stopwords is already up-to-date!\n",
            "[nltk_data] Downloading package averaged_perceptron_tagger to\n",
            "[nltk_data]     /root/nltk_data...\n",
            "[nltk_data]   Package averaged_perceptron_tagger is already up-to-\n",
            "[nltk_data]       date!\n",
            "[nltk_data] Downloading package wordnet to /root/nltk_data...\n",
            "[nltk_data]   Package wordnet is already up-to-date!\n",
            "[nltk_data] Downloading package punkt to /root/nltk_data...\n",
            "[nltk_data]   Package punkt is already up-to-date!\n"
          ],
          "name": "stdout"
        },
        {
          "output_type": "execute_result",
          "data": {
            "text/plain": [
              "True"
            ]
          },
          "metadata": {
            "tags": []
          },
          "execution_count": 208
        }
      ]
    },
    {
      "cell_type": "code",
      "metadata": {
        "id": "XQRBYmn9tI_w"
      },
      "source": [
        "from nltk.stem import PorterStemmer\n",
        "import re\n",
        "porter_stemmer=PorterStemmer()\n",
        "lemmatizer=WordNetLemmatizer()\n",
        "def process_text(text):\n",
        "    text=text.lower()  \n",
        "    words=[word for word in text if word not in string.punctuation]\n",
        "    words=''.join(words)\n",
        "    words=[word for word in words.split() if len(word)>2 and word.isalpha() and word not in stopwords.words('english')]\n",
        "    stemmed_words=[porter_stemmer.stem(word=word) for word in words]\n",
        "    return stemmed_words\n",
        "\n",
        "    \n",
        "from sklearn.feature_extraction.text import CountVectorizer\n",
        "dataset_count_transform= CountVectorizer(analyzer=process_text,min_df=2)\n",
        "dataset_count=dataset_count_transform.fit_transform(dataset['TEXT'])\n",
        "text_count_transform=CountVectorizer(analyzer=process_text,vocabulary=dataset_count_transform.vocabulary_)\n",
        "text_count=text_count_transform.fit_transform(train_set['TEXT'])\n"
      ],
      "execution_count": null,
      "outputs": []
    },
    {
      "cell_type": "code",
      "metadata": {
        "colab": {
          "base_uri": "https://localhost:8080/"
        },
        "id": "_d8rqyD8ReeS",
        "outputId": "2479979a-523f-415a-bfc7-29755ce8e13a"
      },
      "source": [
        "print(len(list(text_count_transform.vocabulary_.keys())))\n",
        "train_set[text_count_transform.get_feature_names()]=pd.DataFrame(text_count.toarray(),index=train_set.index)\n",
        "\n"
      ],
      "execution_count": null,
      "outputs": [
        {
          "output_type": "stream",
          "text": [
            "2702\n"
          ],
          "name": "stdout"
        }
      ]
    },
    {
      "cell_type": "code",
      "metadata": {
        "colab": {
          "base_uri": "https://localhost:8080/"
        },
        "id": "oyKawpW_tLAL",
        "outputId": "7f423615-ae7d-47cc-9c05-b570d6a5d2e5"
      },
      "source": [
        "spam_mails=train_set[train_set['LABEL']=='spam']\n",
        "ham_mails=train_set[train_set['LABEL']=='ham']\n",
        "p_spam=len(spam_mails)/len(train_set)\n",
        "p_ham=len(ham_mails)/len(train_set)\n",
        "print(spam_mails.shape,ham_mails.shape)\n",
        "print(p_spam,p_ham)\n",
        "num_words_spam=(spam_mails[\"TEXT\"].apply(len)).sum()\n",
        "num_words_ham=(ham_mails[\"TEXT\"].apply(len)).sum()\n",
        "print(num_words_spam,num_words_ham)\n",
        "num_words_vocab=len(text_count_transform.vocabulary_.keys())\n",
        "print(num_words_vocab)\n",
        "alpha=1"
      ],
      "execution_count": null,
      "outputs": [
        {
          "output_type": "stream",
          "text": [
            "(498, 2704) (3637, 2704)\n",
            "0.12043530834340992 0.8795646916565901\n",
            "68784 254443\n",
            "2702\n"
          ],
          "name": "stdout"
        }
      ]
    },
    {
      "cell_type": "code",
      "metadata": {
        "id": "6axiO7eK37zO"
      },
      "source": [
        "def cal_probability(word,label):\n",
        "  if label==1:\n",
        "      num_word_given_label=spam_mails[word].sum()\n",
        "      p_num_word_given_label=(num_word_given_label+alpha)/(num_words_spam+(alpha*num_words_vocab))\n",
        "  else:\n",
        "     num_word_given_label=ham_mails[word].sum()\n",
        "     p_num_word_given_label=(num_word_given_label+alpha)/(num_words_ham+(alpha*num_words_vocab))\n",
        "  return p_num_word_given_label\n",
        "keys=text_count_transform.vocabulary_.keys()\n",
        "dict_p_word_given_spam={word:cal_probability(word,1) for word in keys}\n",
        "dict_p_word_given_ham={word:cal_probability(word,0) for word in keys}"
      ],
      "execution_count": null,
      "outputs": []
    },
    {
      "cell_type": "code",
      "metadata": {
        "colab": {
          "base_uri": "https://localhost:8080/"
        },
        "id": "HLRnVcZAJ1b-",
        "outputId": "2717bece-5aae-4b2f-ee9d-727ee32c6a50"
      },
      "source": [
        "def predict_label(test_mail):\n",
        "  p_spam_given_mail=p_spam\n",
        "  p_ham_given_mail=p_ham\n",
        "  for word in test_mail:\n",
        "    if word in dict_p_word_given_spam:\n",
        "      p_spam_given_mail=p_spam_given_mail*dict_p_word_given_spam[word]\n",
        "    if word in dict_p_word_given_ham:\n",
        "      p_ham_given_mail=p_ham_given_mail*dict_p_word_given_ham[word]\n",
        "  if p_spam_given_mail>=p_ham_given_mail:\n",
        "    return 'spam'\n",
        "  else:\n",
        "    return 'ham'\n",
        "\n",
        "\n",
        "test_set['TEXT']=test_set['TEXT'].astype(str)\n",
        "test_set['TEXT']=test_set['TEXT'].apply(process_text)\n",
        "test_set['PREDICTED']=test_set['TEXT'].apply(predict_label)\n",
        "\n",
        "correct=0\n",
        "total=test_set.shape[0]\n",
        "actual_true=0\n",
        "actual_false=0\n",
        "actual_true_predicted_true=0\n",
        "actual_true_predicted_false=0\n",
        "actual_false_predicted_true=0\n",
        "actual_false_predicted_false=0\n",
        "for row in test_set.iterrows():\n",
        "  row=row[1]\n",
        "  if row['LABEL']==row['PREDICTED']:\n",
        "    correct=correct+1\n",
        "  if(row['LABEL']=='spam'):\n",
        "    actual_true+=1\n",
        "  if(row['LABEL']=='ham'):\n",
        "    actual_false+=1\n",
        "  if(row['LABEL']=='spam' and row['PREDICTED']=='spam'):\n",
        "    actual_true_predicted_true+=1\n",
        "  if(row['LABEL']=='spam' and row['PREDICTED']=='ham'):\n",
        "    actual_true_predicted_false+=1\n",
        "  if(row['LABEL']=='ham' and row['PREDICTED']=='spam'):\n",
        "    actual_false_predicted_true+=1\n",
        "  if(row['LABEL']=='ham' and row['PREDICTED']=='ham'):\n",
        "    actual_false_predicted_false+=1\n",
        "  \n",
        "\n",
        "    \n",
        "print(test_set[test_set['LABEL']=='spam'])\n",
        "print(test_set[test_set['LABEL']=='ham'])\n",
        "print(\"Correct:\",correct)\n",
        "print(\"Total\",total)\n",
        "print(actual_true,actual_true_predicted_true,actual_true_predicted_false)\n",
        "print(actual_false,actual_false_predicted_true,actual_false_predicted_false)\n",
        "print(\"accuracy:\",correct/total)"
      ],
      "execution_count": null,
      "outputs": [
        {
          "output_type": "stream",
          "text": [
            "0                 Nothing, i got msg frm tht unknown no..\n",
            "1       Jason says it's cool if we pick some up from h...\n",
            "2                               Call me when u're done...\n",
            "3       Well there's not a lot of things happening in ...\n",
            "4       I was about to do it when i texted. I finished...\n",
            "                              ...                        \n",
            "1029                          Tell me pa. How is pain de.\n",
            "1030    Actually i deleted my old website..now i m blo...\n",
            "1031    accordingly. I repeat, just text the word ok o...\n",
            "1032    New Theory: Argument wins d SITUATION, but los...\n",
            "1033                    Anything lor. Juz both of us lor.\n",
            "Name: TEXT, Length: 1034, dtype: object\n",
            "0                     [noth, got, msg, frm, tht, unknown]\n",
            "1             [jason, say, cool, pick, place, like, hour]\n",
            "2                                       [call, ure, done]\n",
            "3       [well, there, lot, thing, happen, lindsay, new...\n",
            "4          [text, finish, long, time, ago, shower, eryth]\n",
            "                              ...                        \n",
            "1029                                         [tell, pain]\n",
            "1030    [actual, delet, old, websitenow, blog, magical...\n",
            "1031    [accordingli, repeat, text, word, mobil, phone...\n",
            "1032    [new, theori, argument, win, situat, lose, per...\n",
            "1033                               [anyth, lor, juz, lor]\n",
            "Name: TEXT, Length: 1034, dtype: object\n",
            "     LABEL                                               TEXT PREDICTED\n",
            "7     spam  [get, offici, england, poli, rington, colour, ...      spam\n",
            "13    spam  [custom, servic, announc, recent, tri, make, d...      spam\n",
            "20    spam  [pleas, call, amanda, regard, renew, upgrad, c...      spam\n",
            "32    spam  [congrat, nokia, video, camera, phone, call, c...      spam\n",
            "35    spam  [congratul, youv, your, winner, august, prize,...      spam\n",
            "...    ...                                                ...       ...\n",
            "997   spam  [win, shop, spree, everi, week, start, play, t...      spam\n",
            "1001  spam  [free, game, get, rayman, golf, free, game, ar...      spam\n",
            "1006  spam  [mobil, mth, updat, latest, cameravideo, phone...      spam\n",
            "1027  spam  [guarante, award, mayb, even, cash, claim, awa...      spam\n",
            "1031  spam  [accordingli, repeat, text, word, mobil, phone...      spam\n",
            "\n",
            "[155 rows x 3 columns]\n",
            "     LABEL                                               TEXT PREDICTED\n",
            "0      ham                [noth, got, msg, frm, tht, unknown]       ham\n",
            "1      ham        [jason, say, cool, pick, place, like, hour]       ham\n",
            "2      ham                                  [call, ure, done]       ham\n",
            "3      ham  [well, there, lot, thing, happen, lindsay, new...       ham\n",
            "4      ham     [text, finish, long, time, ago, shower, eryth]       ham\n",
            "...    ...                                                ...       ...\n",
            "1028   ham                                 [die, toot, fring]       ham\n",
            "1029   ham                                       [tell, pain]       ham\n",
            "1030   ham  [actual, delet, old, websitenow, blog, magical...       ham\n",
            "1032   ham  [new, theori, argument, win, situat, lose, per...       ham\n",
            "1033   ham                             [anyth, lor, juz, lor]       ham\n",
            "\n",
            "[879 rows x 3 columns]\n",
            "Correct: 1000\n",
            "Total 1034\n",
            "155 145 10\n",
            "879 24 855\n",
            "accuracy: 0.9671179883945842\n"
          ],
          "name": "stdout"
        }
      ]
    }
  ]
}